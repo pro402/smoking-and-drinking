{
 "cells": [
  {
   "cell_type": "markdown",
   "id": "2bd5005b",
   "metadata": {},
   "source": [
    "## Colunm\tDescription(US)\t\n",
    "* Sex\tmale, female\n",
    "* age\tround up to 5 years\t\n",
    "* height\tround up to 5 cm[cm]\n",
    "* weight\t[kg]\t\n",
    "* sight_left\teyesight(left)\n",
    "* sight_right\teyesight(right)\t\n",
    "* hear_left\thearing left, 1(normal), 2(abnormal)\t\n",
    "* hear_right\thearing right, 1(normal), 2(abnormal)\t\n",
    "* SBP\tSystolic blood pressure[mmHg]\t\n",
    "* DBP\tDiastolic blood pressure[mmHg]\t\n",
    "* BLDS\tBLDS or FSG(fasting blood glucose)[mg/dL]\t\n",
    "* tot_chole\ttotal cholesterol[mg/dL]\t\n",
    "* HDL_chole\tHDL cholesterol[mg/dL]\tHDL \n",
    "* LDL_chole\tLDL cholesterol[mg/dL]\tLDL \n",
    "* triglyceride\ttriglyceride[mg/dL]\t\n",
    "* hemoglobin\themoglobin[g/dL]\t\n",
    "* urine_protein\tprotein in urine, 1(-), 2(+/-), 3(+1), 4(+2), 5(+3), 6(+4)\t\n",
    "* serum_creatinine\tserum(blood) creatinine[mg/dL]\t\n",
    "* SGOT_AST\tSGOT(Glutamate-oxaloacetate transaminase) AST(Aspartate transaminase)[IU/L]\n",
    "* SGOT_ALT\tALT(Alanine transaminase)[IU/L]\n",
    "* gamma_GTP\ty-glutamyl transpeptidase[IU/L]\t\n",
    "* SMK_stat_type_cd\tSmoking state, 1(never), 2(used to smoke but quit), 3(still smoke)\t\n",
    "* DRK_YN\tDrinker or Not\t"
   ]
  },
  {
   "cell_type": "markdown",
   "id": "3ba936c9",
   "metadata": {},
   "source": [
    "# 1. Import Libraries"
   ]
  },
  {
   "cell_type": "code",
   "execution_count": 1,
   "id": "082223be",
   "metadata": {},
   "outputs": [],
   "source": [
    "# Basic Libraries\n",
    "# -------------------------------\n",
    "import numpy as np\n",
    "import pandas as pd\n",
    "\n",
    "import warnings\n",
    "warnings.filterwarnings('ignore')\n",
    "\n",
    "# Visualisation Libraries\n",
    "# -------------------------------\n",
    "import matplotlib.pyplot as plt\n",
    "import seaborn as sns\n",
    "\n",
    "# EDA\n",
    "# -------------------------------\n",
    "from ydata_profiling import ProfileReport\n",
    "# from dataprep.eda import create_report\n",
    "import sweetviz as sv\n",
    "import dtale\n",
    "\n",
    "# Sklearn libraries for preprocessing\n",
    "# -------------------------------\n",
    "# from sklearn.preprocessing import MinMaxScaler\n",
    "from sklearn.model_selection import train_test_split\n",
    "from sklearn.preprocessing import StandardScaler\n",
    "from sklearn.pipeline import Pipeline\n",
    "from sklearn.linear_model import LogisticRegression\n",
    "from sklearn.tree import DecisionTreeClassifier\n",
    "from sklearn.ensemble import RandomForestClassifier\n",
    "from sklearn.svm import SVC\n",
    "from sklearn.neighbors import KNeighborsClassifier\n",
    "from sklearn.naive_bayes import GaussianNB\n",
    "from sklearn.cluster import KMeans\n",
    "from sklearn.ensemble import GradientBoostingClassifier\n",
    "from sklearn.neural_network import MLPClassifier\n",
    "from sklearn.gaussian_process import GaussianProcessClassifier\n",
    "from sklearn.discriminant_analysis import LinearDiscriminantAnalysis, QuadraticDiscriminantAnalysis\n",
    "from sklearn.linear_model import Perceptron, RidgeClassifier, SGDClassifier\n",
    "from sklearn.metrics import mean_absolute_error\n",
    "from sklearn.metrics import accuracy_score\n",
    "# from sklearn.preprocessing import OrdinalEncoder\n",
    "# from sklearn.preprocessing import LabelEncoder"
   ]
  },
  {
   "cell_type": "markdown",
   "id": "708f3c69",
   "metadata": {},
   "source": [
    "# 2. DataFrame and Details of Data"
   ]
  },
  {
   "cell_type": "code",
   "execution_count": 2,
   "id": "97510103",
   "metadata": {},
   "outputs": [],
   "source": [
    "# df is the pandas dataframe of the csv dataset and viewing a sample\n",
    "df = pd.read_csv('smoking_driking_dataset_Ver01.csv')\n",
    "df"
   ]
  },
  {
   "cell_type": "code",
   "execution_count": 3,
   "id": "d02729ca",
   "metadata": {},
   "outputs": [],
   "source": [
    "# columns in df\n",
    "df.columns"
   ]
  },
  {
   "cell_type": "code",
   "execution_count": 4,
   "id": "4625fc6d",
   "metadata": {},
   "outputs": [],
   "source": [
    "# information of df datatype\n",
    "df.info()"
   ]
  },
  {
   "cell_type": "code",
   "execution_count": 5,
   "id": "9cab8a3e",
   "metadata": {},
   "outputs": [],
   "source": [
    "# checking uniqueness of datas in df columns\n",
    "df.nunique()"
   ]
  },
  {
   "cell_type": "code",
   "execution_count": 6,
   "id": "8bdca884",
   "metadata": {},
   "outputs": [],
   "source": [
    "## checking unique values of specific columns\n",
    "# sex\n",
    "print(f\"sex = {df['sex'].unique()}\")\n",
    "# sight_left\n",
    "print(f\"sight_left = {df['sight_left'].unique()}\")\n",
    "# sight_right\n",
    "print(f\"sight_right = {df['sight_right'].unique()}\")\n",
    "# hear_left\n",
    "print(f\"hear_left = {df['hear_left'].unique()}\")\n",
    "# hear_right\n",
    "print(f\"hear_right = {df['hear_right'].unique()}\")\n",
    "# urine_protein\n",
    "print(f\"urine_protein = {df['urine_protein'].unique()}\")\n",
    "# SMK_stat_type_cd\n",
    "print(f\"SMK_stat_type_cd = {df['SMK_stat_type_cd'].unique()}\")\n",
    "# DRK_YN\n",
    "print(f\"DRK_YN = {df['DRK_YN'].unique()}\")"
   ]
  },
  {
   "cell_type": "markdown",
   "id": "9c4819e4",
   "metadata": {},
   "source": [
    "### As we can see the outputs \n",
    "1. We can convert(Encode) sex and DRK_YN columns into int\n",
    "2. hear_left, hear_right, urine_protein and SMK_stat_type_cd can be converted to int as float consumes more relative memory"
   ]
  },
  {
   "cell_type": "code",
   "execution_count": 7,
   "id": "bc5c6c29",
   "metadata": {},
   "outputs": [],
   "source": [
    "# Solving 2. hear_left, ... memory\n",
    "\n",
    "df['hear_left'] = df['hear_left'].astype(int)\n",
    "df['hear_right'] = df['hear_right'].astype(int)\n",
    "df['urine_protein'] = df['urine_protein'].astype(int)\n",
    "df['SMK_stat_type_cd'] = df['SMK_stat_type_cd'].astype(int)"
   ]
  },
  {
   "cell_type": "code",
   "execution_count": 8,
   "id": "92b70dd1",
   "metadata": {},
   "outputs": [],
   "source": [
    "# Solving 1. We can ... into int\n",
    "# sex\n",
    "df['sex'] = df['sex'].apply(lambda x: 1 if x=='Male' else 0)\n",
    "# DRK_YK \n",
    "df['DRK_YN'] = df['DRK_YN'].apply(lambda x: 1 if x=='Y' else 0)"
   ]
  },
  {
   "cell_type": "code",
   "execution_count": 9,
   "id": "23904953",
   "metadata": {},
   "outputs": [],
   "source": [
    "df.info()"
   ]
  },
  {
   "cell_type": "code",
   "execution_count": 10,
   "id": "7f0030ed",
   "metadata": {},
   "outputs": [],
   "source": [
    "## checking unique values of specific columns after modification\n",
    "# sex\n",
    "print(f\"sex = {df['sex'].unique()}\")\n",
    "# hear_left\n",
    "print(f\"hear_left = {df['hear_left'].unique()}\")\n",
    "# hear_right\n",
    "print(f\"hear_right = {df['hear_right'].unique()}\")\n",
    "# urine_protein\n",
    "print(f\"urine_protein = {df['urine_protein'].unique()}\")\n",
    "# SMK_stat_type_cd\n",
    "print(f\"SMK_stat_type_cd = {df['SMK_stat_type_cd'].unique()}\")\n",
    "# DRK_YN\n",
    "print(f\"DRK_YN = {df['DRK_YN'].unique()}\")"
   ]
  },
  {
   "cell_type": "markdown",
   "id": "089dd08c",
   "metadata": {},
   "source": [
    "# 3. EDA "
   ]
  },
  {
   "cell_type": "code",
   "execution_count": 11,
   "id": "bf3b3ea3",
   "metadata": {
    "scrolled": false
   },
   "outputs": [],
   "source": [
    "df"
   ]
  },
  {
   "cell_type": "code",
   "execution_count": 12,
   "id": "ff34f850",
   "metadata": {
    "scrolled": false
   },
   "outputs": [],
   "source": [
    "df.info()"
   ]
  },
  {
   "cell_type": "code",
   "execution_count": 13,
   "id": "7ee3975b",
   "metadata": {},
   "outputs": [],
   "source": [
    "r=4\n",
    "c=6\n",
    "it=1\n",
    "for i in df.columns:\n",
    "    plt.figure(figsize=(6,1))\n",
    "    plt.subplot(r,c,it)\n",
    "    sns.kdeplot(df[i])\n",
    "    plt.grid()\n",
    "    it+=1\n",
    "plt.tight_layout()\n",
    "plt.show()"
   ]
  },
  {
   "cell_type": "code",
   "execution_count": null,
   "id": "5aa36b59",
   "metadata": {
    "scrolled": false
   },
   "outputs": [],
   "source": [
    "for i in df.columns:\n",
    "    plt.figure(figsize=(15,1))\n",
    "    sns.boxplot(df[i],orient='h')\n",
    "    plt.ylabel(i)\n",
    "    plt.show()"
   ]
  },
  {
   "cell_type": "markdown",
   "id": "c8eb3859",
   "metadata": {},
   "source": [
    "### Ydata Profiling"
   ]
  },
  {
   "cell_type": "code",
   "execution_count": null,
   "id": "caf36621",
   "metadata": {},
   "outputs": [],
   "source": [
    "# profile = ProfileReport(df,title=\"Smoking and Drinking\")\n",
    "# profile.to_file(\"ydata_profilingReport.html\")"
   ]
  },
  {
   "cell_type": "markdown",
   "id": "c1b89af0",
   "metadata": {},
   "source": [
    "### DataPrep"
   ]
  },
  {
   "cell_type": "code",
   "execution_count": null,
   "id": "14940405",
   "metadata": {},
   "outputs": [],
   "source": [
    "# df = pd.read_csv(\"hcc.csv\")\n",
    "# create_report(df)"
   ]
  },
  {
   "cell_type": "markdown",
   "id": "7a38fc80",
   "metadata": {},
   "source": [
    "### SweetViz"
   ]
  },
  {
   "cell_type": "code",
   "execution_count": null,
   "id": "d8f4cf2b",
   "metadata": {},
   "outputs": [],
   "source": [
    "# report = sv.analyze(df)\n",
    "# report.show_html('sweetvizReport.html')"
   ]
  },
  {
   "cell_type": "code",
   "execution_count": null,
   "id": "f8d4085c",
   "metadata": {},
   "outputs": [],
   "source": [
    "# df1 = sv.compare(df[:], df[:])\n",
    "# df1.show_html('Compare.html')"
   ]
  },
  {
   "cell_type": "code",
   "execution_count": null,
   "id": "017bc014",
   "metadata": {},
   "outputs": [],
   "source": [
    "# report = sv.analyze([df, 'sex'], target_feat='DRK_YN')\n",
    "# report.show_html('DRKYN.html')"
   ]
  },
  {
   "cell_type": "markdown",
   "id": "2bdb41a4",
   "metadata": {},
   "source": [
    "### dtale"
   ]
  },
  {
   "cell_type": "code",
   "execution_count": null,
   "id": "420dabcc",
   "metadata": {
    "scrolled": false
   },
   "outputs": [],
   "source": [
    "dtale.show(df)"
   ]
  },
  {
   "cell_type": "markdown",
   "id": "e9351382",
   "metadata": {},
   "source": [
    "### df_DRK for as we target DRINKING"
   ]
  },
  {
   "cell_type": "code",
   "execution_count": null,
   "id": "141bc761",
   "metadata": {
    "scrolled": true
   },
   "outputs": [],
   "source": [
    "df.describe()"
   ]
  },
  {
   "cell_type": "code",
   "execution_count": null,
   "id": "a4fc83af",
   "metadata": {},
   "outputs": [],
   "source": [
    "df_drk = df.drop(columns=['DRK_YN'])\n",
    "df_drk"
   ]
  },
  {
   "cell_type": "code",
   "execution_count": null,
   "id": "214b2c03",
   "metadata": {},
   "outputs": [],
   "source": [
    "df_drk['Target_drinking'] = df['DRK_YN']"
   ]
  },
  {
   "cell_type": "code",
   "execution_count": null,
   "id": "93a4423a",
   "metadata": {},
   "outputs": [],
   "source": [
    "df_drk.head(7)"
   ]
  },
  {
   "cell_type": "code",
   "execution_count": null,
   "id": "00bd8c8a",
   "metadata": {},
   "outputs": [],
   "source": [
    "df_drk['Target_drinking'].unique()"
   ]
  },
  {
   "cell_type": "code",
   "execution_count": null,
   "id": "15b55d09",
   "metadata": {},
   "outputs": [],
   "source": [
    "X = df_drk.iloc[:,:-1]\n",
    "y = df_drk.iloc[:,-1]"
   ]
  },
  {
   "cell_type": "code",
   "execution_count": null,
   "id": "27d3006d",
   "metadata": {
    "scrolled": false
   },
   "outputs": [],
   "source": [
    "X"
   ]
  },
  {
   "cell_type": "code",
   "execution_count": null,
   "id": "ae9d9ff7",
   "metadata": {},
   "outputs": [],
   "source": [
    "y"
   ]
  },
  {
   "cell_type": "code",
   "execution_count": null,
   "id": "a748d91a",
   "metadata": {},
   "outputs": [],
   "source": [
    "X_train, X_test, y_train, y_test = train_test_split(X, y, test_size=0.3, random_state=42)"
   ]
  },
  {
   "cell_type": "code",
   "execution_count": null,
   "id": "0fbb07eb",
   "metadata": {},
   "outputs": [],
   "source": [
    "# Define a list of classifiers\n",
    "classifiers = [\n",
    "    ('K-Means', KMeans(n_clusters=2)),  # For binary classification, set n_clusters=2\n",
    "    ('SVM', SVC()),\n",
    "    ('Logistic Regression', LogisticRegression()),\n",
    "    ('Decision Tree', DecisionTreeClassifier()),\n",
    "    ('Random Forest', RandomForestClassifier()),\n",
    "    ('K-Nearest Neighbors', KNeighborsClassifier()),\n",
    "    ('Naive Bayes', GaussianNB()),\n",
    "    ('Gradient Boosting', GradientBoostingClassifier()),\n",
    "    ('Neural Network', MLPClassifier()),\n",
    "    ('Gaussian Process', GaussianProcessClassifier()),\n",
    "    ('LDA', LinearDiscriminantAnalysis()),\n",
    "    ('QDA', QuadraticDiscriminantAnalysis()),\n",
    "    ('Perceptron', Perceptron()),\n",
    "    ('Ridge Classifier', RidgeClassifier()),\n",
    "    ('SGD Classifier', SGDClassifier())\n",
    "]\n"
   ]
  },
  {
   "cell_type": "code",
   "execution_count": null,
   "id": "3f142adb",
   "metadata": {},
   "outputs": [],
   "source": [
    "for name, classifier in classifiers:\n",
    "    model = Pipeline([\n",
    "        ('scaler', StandardScaler()),  # Standardize the features\n",
    "        ('classifier', classifier)     # Apply the classifier\n",
    "    ])\n",
    "    model.fit(X_train, y_train)\n",
    "    y_pred = model.predict(X_test)\n",
    "    accuracy = accuracy_score(y_test, y_pred)\n",
    "    if (accuracy<= 0.00 and accuracy<=0.50):\n",
    "        print(f'{name}: Accuracy = {accuracy:.2f} Failed')\n",
    "    elif (accuracy > 0.50 and accuracy < 0.73):\n",
    "        print(f'{name}: Accuracy = {accuracy:.2f} Needs Improvement') \n",
    "    else:\n",
    "        print(f'{name}: Accuracy = {accuracy:.2f} Success')                \n"
   ]
  }
 ],
 "metadata": {
  "kernelspec": {
   "display_name": "Python 3 (ipykernel)",
   "language": "python",
   "name": "python3"
  },
  "language_info": {
   "codemirror_mode": {
    "name": "ipython",
    "version": 3
   },
   "file_extension": ".py",
   "mimetype": "text/x-python",
   "name": "python",
   "nbconvert_exporter": "python",
   "pygments_lexer": "ipython3",
   "version": "3.11.6"
  }
 },
 "nbformat": 4,
 "nbformat_minor": 5
}
